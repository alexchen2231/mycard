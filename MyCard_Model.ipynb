{
 "cells": [
  {
   "cell_type": "code",
   "execution_count": 586,
   "metadata": {
    "colab": {
     "base_uri": "https://localhost:8080/",
     "height": 381
    },
    "colab_type": "code",
    "id": "xiBZCWZFPFlJ",
    "outputId": "09c9e18c-919c-4217-b6c0-d2de6b6bc053"
   },
   "outputs": [],
   "source": [
    "from __future__ import absolute_import, division, print_function, unicode_literals\n",
    "import functools\n",
    "\n",
    "import pandas as pd\n",
    "import numpy as np\n",
    "import tensorflow as tf\n",
    "\n",
    "from tensorflow import feature_column\n",
    "from tensorflow.keras import layers\n",
    "from sklearn.model_selection import train_test_split"
   ]
  },
  {
   "cell_type": "code",
   "execution_count": 587,
   "metadata": {},
   "outputs": [],
   "source": [
    "csv_file = \"/Users/alexanderchen/Google Drive (alex.chen.h@yale.edu)/Projects/Hack Harvard 2019/customers.csv\""
   ]
  },
  {
   "cell_type": "code",
   "execution_count": 588,
   "metadata": {},
   "outputs": [],
   "source": [
    "df = pd.read_csv(csv_file)"
   ]
  },
  {
   "cell_type": "code",
   "execution_count": 589,
   "metadata": {
    "scrolled": true
   },
   "outputs": [
    {
     "data": {
      "text/html": [
       "<div>\n",
       "<style scoped>\n",
       "    .dataframe tbody tr th:only-of-type {\n",
       "        vertical-align: middle;\n",
       "    }\n",
       "\n",
       "    .dataframe tbody tr th {\n",
       "        vertical-align: top;\n",
       "    }\n",
       "\n",
       "    .dataframe thead th {\n",
       "        text-align: right;\n",
       "    }\n",
       "</style>\n",
       "<table border=\"1\" class=\"dataframe\">\n",
       "  <thead>\n",
       "    <tr style=\"text-align: right;\">\n",
       "      <th></th>\n",
       "      <th>CreditCard</th>\n",
       "      <th>Age</th>\n",
       "      <th>Student</th>\n",
       "      <th>AccountBalance</th>\n",
       "      <th>CS</th>\n",
       "      <th>GEXP1</th>\n",
       "      <th>DIN1</th>\n",
       "      <th>TRANS1</th>\n",
       "      <th>ENT1</th>\n",
       "      <th>GROC1</th>\n",
       "      <th>...</th>\n",
       "      <th>GROC2</th>\n",
       "      <th>HOTEL2</th>\n",
       "      <th>AIR2</th>\n",
       "      <th>GEXP3</th>\n",
       "      <th>DIN3</th>\n",
       "      <th>TRANS3</th>\n",
       "      <th>ENT3</th>\n",
       "      <th>GROC3</th>\n",
       "      <th>HOTEL3</th>\n",
       "      <th>AIR3</th>\n",
       "    </tr>\n",
       "  </thead>\n",
       "  <tbody>\n",
       "    <tr>\n",
       "      <th>0</th>\n",
       "      <td>QuickSilverOne</td>\n",
       "      <td>1</td>\n",
       "      <td>1</td>\n",
       "      <td>u100</td>\n",
       "      <td>Average</td>\n",
       "      <td>4350.426187</td>\n",
       "      <td>2780.014774</td>\n",
       "      <td>3534.051017</td>\n",
       "      <td>2813.531871</td>\n",
       "      <td>2433.390448</td>\n",
       "      <td>...</td>\n",
       "      <td>3983.29</td>\n",
       "      <td>721.56</td>\n",
       "      <td>2169.69</td>\n",
       "      <td>8241.17</td>\n",
       "      <td>1917.72</td>\n",
       "      <td>197043.53</td>\n",
       "      <td>3100.20</td>\n",
       "      <td>5554.97</td>\n",
       "      <td>1062.73</td>\n",
       "      <td>3726.34</td>\n",
       "    </tr>\n",
       "    <tr>\n",
       "      <th>1</th>\n",
       "      <td>JourneyStudent</td>\n",
       "      <td>2</td>\n",
       "      <td>1</td>\n",
       "      <td>o10000</td>\n",
       "      <td>Average</td>\n",
       "      <td>4230.872548</td>\n",
       "      <td>2721.123376</td>\n",
       "      <td>3525.241001</td>\n",
       "      <td>2816.375447</td>\n",
       "      <td>2970.424212</td>\n",
       "      <td>...</td>\n",
       "      <td>4452.80</td>\n",
       "      <td>842.02</td>\n",
       "      <td>3040.12</td>\n",
       "      <td>10820.87</td>\n",
       "      <td>2342.69</td>\n",
       "      <td>241154.71</td>\n",
       "      <td>1980.95</td>\n",
       "      <td>4392.14</td>\n",
       "      <td>697.27</td>\n",
       "      <td>4353.28</td>\n",
       "    </tr>\n",
       "    <tr>\n",
       "      <th>2</th>\n",
       "      <td>QuickSilverOne</td>\n",
       "      <td>5</td>\n",
       "      <td>0</td>\n",
       "      <td>o10000</td>\n",
       "      <td>Average</td>\n",
       "      <td>4836.533691</td>\n",
       "      <td>3137.231798</td>\n",
       "      <td>4205.282185</td>\n",
       "      <td>3229.076565</td>\n",
       "      <td>2484.837704</td>\n",
       "      <td>...</td>\n",
       "      <td>3278.51</td>\n",
       "      <td>499.47</td>\n",
       "      <td>1830.31</td>\n",
       "      <td>10175.12</td>\n",
       "      <td>2522.14</td>\n",
       "      <td>4613.07</td>\n",
       "      <td>2775.48</td>\n",
       "      <td>2884.93</td>\n",
       "      <td>730.12</td>\n",
       "      <td>1941.41</td>\n",
       "    </tr>\n",
       "    <tr>\n",
       "      <th>3</th>\n",
       "      <td>JourneyStudent</td>\n",
       "      <td>2</td>\n",
       "      <td>1</td>\n",
       "      <td>01000u10000</td>\n",
       "      <td>Average</td>\n",
       "      <td>4288.000046</td>\n",
       "      <td>2736.386884</td>\n",
       "      <td>3663.947996</td>\n",
       "      <td>2002.497257</td>\n",
       "      <td>3034.466426</td>\n",
       "      <td>...</td>\n",
       "      <td>3233.94</td>\n",
       "      <td>531.86</td>\n",
       "      <td>1921.96</td>\n",
       "      <td>6671.59</td>\n",
       "      <td>4187.69</td>\n",
       "      <td>223120.50</td>\n",
       "      <td>3131.77</td>\n",
       "      <td>5307.49</td>\n",
       "      <td>724.30</td>\n",
       "      <td>3091.07</td>\n",
       "    </tr>\n",
       "    <tr>\n",
       "      <th>4</th>\n",
       "      <td>QuickSilverOne</td>\n",
       "      <td>1</td>\n",
       "      <td>1</td>\n",
       "      <td>o100u1000</td>\n",
       "      <td>Average</td>\n",
       "      <td>4380.721651</td>\n",
       "      <td>2825.678997</td>\n",
       "      <td>3241.745528</td>\n",
       "      <td>2778.379019</td>\n",
       "      <td>2898.353526</td>\n",
       "      <td>...</td>\n",
       "      <td>4575.31</td>\n",
       "      <td>778.42</td>\n",
       "      <td>2659.15</td>\n",
       "      <td>7983.73</td>\n",
       "      <td>2927.02</td>\n",
       "      <td>232661.83</td>\n",
       "      <td>5890.42</td>\n",
       "      <td>5336.52</td>\n",
       "      <td>689.72</td>\n",
       "      <td>4020.44</td>\n",
       "    </tr>\n",
       "  </tbody>\n",
       "</table>\n",
       "<p>5 rows × 26 columns</p>\n",
       "</div>"
      ],
      "text/plain": [
       "       CreditCard  Age  Student AccountBalance       CS        GEXP1  \\\n",
       "0  QuickSilverOne    1        1           u100  Average  4350.426187   \n",
       "1  JourneyStudent    2        1         o10000  Average  4230.872548   \n",
       "2  QuickSilverOne    5        0         o10000  Average  4836.533691   \n",
       "3  JourneyStudent    2        1    01000u10000  Average  4288.000046   \n",
       "4  QuickSilverOne    1        1      o100u1000  Average  4380.721651   \n",
       "\n",
       "          DIN1       TRANS1         ENT1        GROC1  ...    GROC2  HOTEL2  \\\n",
       "0  2780.014774  3534.051017  2813.531871  2433.390448  ...  3983.29  721.56   \n",
       "1  2721.123376  3525.241001  2816.375447  2970.424212  ...  4452.80  842.02   \n",
       "2  3137.231798  4205.282185  3229.076565  2484.837704  ...  3278.51  499.47   \n",
       "3  2736.386884  3663.947996  2002.497257  3034.466426  ...  3233.94  531.86   \n",
       "4  2825.678997  3241.745528  2778.379019  2898.353526  ...  4575.31  778.42   \n",
       "\n",
       "      AIR2     GEXP3     DIN3     TRANS3     ENT3    GROC3   HOTEL3     AIR3  \n",
       "0  2169.69   8241.17  1917.72  197043.53  3100.20  5554.97  1062.73  3726.34  \n",
       "1  3040.12  10820.87  2342.69  241154.71  1980.95  4392.14   697.27  4353.28  \n",
       "2  1830.31  10175.12  2522.14    4613.07  2775.48  2884.93   730.12  1941.41  \n",
       "3  1921.96   6671.59  4187.69  223120.50  3131.77  5307.49   724.30  3091.07  \n",
       "4  2659.15   7983.73  2927.02  232661.83  5890.42  5336.52   689.72  4020.44  \n",
       "\n",
       "[5 rows x 26 columns]"
      ]
     },
     "execution_count": 589,
     "metadata": {},
     "output_type": "execute_result"
    }
   ],
   "source": [
    "df.head()"
   ]
  },
  {
   "cell_type": "code",
   "execution_count": 590,
   "metadata": {
    "scrolled": true
   },
   "outputs": [
    {
     "data": {
      "text/plain": [
       "CreditCard         object\n",
       "Age                 int64\n",
       "Student             int64\n",
       "AccountBalance     object\n",
       "CS                 object\n",
       "GEXP1             float64\n",
       "DIN1              float64\n",
       "TRANS1            float64\n",
       "ENT1              float64\n",
       "GROC1             float64\n",
       "HOTEL1            float64\n",
       "AIR1              float64\n",
       "GEXP2             float64\n",
       "DIN2              float64\n",
       "TRANS2            float64\n",
       "ENT2              float64\n",
       "GROC2             float64\n",
       "HOTEL2            float64\n",
       "AIR2              float64\n",
       "GEXP3             float64\n",
       "DIN3              float64\n",
       "TRANS3            float64\n",
       "ENT3              float64\n",
       "GROC3             float64\n",
       "HOTEL3            float64\n",
       "AIR3              float64\n",
       "dtype: object"
      ]
     },
     "execution_count": 590,
     "metadata": {},
     "output_type": "execute_result"
    }
   ],
   "source": [
    "df.dtypes"
   ]
  },
  {
   "cell_type": "code",
   "execution_count": 591,
   "metadata": {},
   "outputs": [],
   "source": [
    "df['CreditCard'] = pd.Categorical(df['CreditCard'])\n",
    "df['CreditCard'] = df.CreditCard.cat.codes"
   ]
  },
  {
   "cell_type": "code",
   "execution_count": 592,
   "metadata": {
    "scrolled": false
   },
   "outputs": [
    {
     "data": {
      "text/html": [
       "<div>\n",
       "<style scoped>\n",
       "    .dataframe tbody tr th:only-of-type {\n",
       "        vertical-align: middle;\n",
       "    }\n",
       "\n",
       "    .dataframe tbody tr th {\n",
       "        vertical-align: top;\n",
       "    }\n",
       "\n",
       "    .dataframe thead th {\n",
       "        text-align: right;\n",
       "    }\n",
       "</style>\n",
       "<table border=\"1\" class=\"dataframe\">\n",
       "  <thead>\n",
       "    <tr style=\"text-align: right;\">\n",
       "      <th></th>\n",
       "      <th>CreditCard</th>\n",
       "      <th>Age</th>\n",
       "      <th>Student</th>\n",
       "      <th>AccountBalance</th>\n",
       "      <th>CS</th>\n",
       "      <th>GEXP1</th>\n",
       "      <th>DIN1</th>\n",
       "      <th>TRANS1</th>\n",
       "      <th>ENT1</th>\n",
       "      <th>GROC1</th>\n",
       "      <th>...</th>\n",
       "      <th>GROC2</th>\n",
       "      <th>HOTEL2</th>\n",
       "      <th>AIR2</th>\n",
       "      <th>GEXP3</th>\n",
       "      <th>DIN3</th>\n",
       "      <th>TRANS3</th>\n",
       "      <th>ENT3</th>\n",
       "      <th>GROC3</th>\n",
       "      <th>HOTEL3</th>\n",
       "      <th>AIR3</th>\n",
       "    </tr>\n",
       "  </thead>\n",
       "  <tbody>\n",
       "    <tr>\n",
       "      <th>0</th>\n",
       "      <td>2</td>\n",
       "      <td>1</td>\n",
       "      <td>1</td>\n",
       "      <td>u100</td>\n",
       "      <td>Average</td>\n",
       "      <td>4350.426187</td>\n",
       "      <td>2780.014774</td>\n",
       "      <td>3534.051017</td>\n",
       "      <td>2813.531871</td>\n",
       "      <td>2433.390448</td>\n",
       "      <td>...</td>\n",
       "      <td>3983.29</td>\n",
       "      <td>721.56</td>\n",
       "      <td>2169.69</td>\n",
       "      <td>8241.17</td>\n",
       "      <td>1917.72</td>\n",
       "      <td>197043.53</td>\n",
       "      <td>3100.20</td>\n",
       "      <td>5554.97</td>\n",
       "      <td>1062.73</td>\n",
       "      <td>3726.34</td>\n",
       "    </tr>\n",
       "    <tr>\n",
       "      <th>1</th>\n",
       "      <td>1</td>\n",
       "      <td>2</td>\n",
       "      <td>1</td>\n",
       "      <td>o10000</td>\n",
       "      <td>Average</td>\n",
       "      <td>4230.872548</td>\n",
       "      <td>2721.123376</td>\n",
       "      <td>3525.241001</td>\n",
       "      <td>2816.375447</td>\n",
       "      <td>2970.424212</td>\n",
       "      <td>...</td>\n",
       "      <td>4452.80</td>\n",
       "      <td>842.02</td>\n",
       "      <td>3040.12</td>\n",
       "      <td>10820.87</td>\n",
       "      <td>2342.69</td>\n",
       "      <td>241154.71</td>\n",
       "      <td>1980.95</td>\n",
       "      <td>4392.14</td>\n",
       "      <td>697.27</td>\n",
       "      <td>4353.28</td>\n",
       "    </tr>\n",
       "    <tr>\n",
       "      <th>2</th>\n",
       "      <td>2</td>\n",
       "      <td>5</td>\n",
       "      <td>0</td>\n",
       "      <td>o10000</td>\n",
       "      <td>Average</td>\n",
       "      <td>4836.533691</td>\n",
       "      <td>3137.231798</td>\n",
       "      <td>4205.282185</td>\n",
       "      <td>3229.076565</td>\n",
       "      <td>2484.837704</td>\n",
       "      <td>...</td>\n",
       "      <td>3278.51</td>\n",
       "      <td>499.47</td>\n",
       "      <td>1830.31</td>\n",
       "      <td>10175.12</td>\n",
       "      <td>2522.14</td>\n",
       "      <td>4613.07</td>\n",
       "      <td>2775.48</td>\n",
       "      <td>2884.93</td>\n",
       "      <td>730.12</td>\n",
       "      <td>1941.41</td>\n",
       "    </tr>\n",
       "    <tr>\n",
       "      <th>3</th>\n",
       "      <td>1</td>\n",
       "      <td>2</td>\n",
       "      <td>1</td>\n",
       "      <td>01000u10000</td>\n",
       "      <td>Average</td>\n",
       "      <td>4288.000046</td>\n",
       "      <td>2736.386884</td>\n",
       "      <td>3663.947996</td>\n",
       "      <td>2002.497257</td>\n",
       "      <td>3034.466426</td>\n",
       "      <td>...</td>\n",
       "      <td>3233.94</td>\n",
       "      <td>531.86</td>\n",
       "      <td>1921.96</td>\n",
       "      <td>6671.59</td>\n",
       "      <td>4187.69</td>\n",
       "      <td>223120.50</td>\n",
       "      <td>3131.77</td>\n",
       "      <td>5307.49</td>\n",
       "      <td>724.30</td>\n",
       "      <td>3091.07</td>\n",
       "    </tr>\n",
       "    <tr>\n",
       "      <th>4</th>\n",
       "      <td>2</td>\n",
       "      <td>1</td>\n",
       "      <td>1</td>\n",
       "      <td>o100u1000</td>\n",
       "      <td>Average</td>\n",
       "      <td>4380.721651</td>\n",
       "      <td>2825.678997</td>\n",
       "      <td>3241.745528</td>\n",
       "      <td>2778.379019</td>\n",
       "      <td>2898.353526</td>\n",
       "      <td>...</td>\n",
       "      <td>4575.31</td>\n",
       "      <td>778.42</td>\n",
       "      <td>2659.15</td>\n",
       "      <td>7983.73</td>\n",
       "      <td>2927.02</td>\n",
       "      <td>232661.83</td>\n",
       "      <td>5890.42</td>\n",
       "      <td>5336.52</td>\n",
       "      <td>689.72</td>\n",
       "      <td>4020.44</td>\n",
       "    </tr>\n",
       "  </tbody>\n",
       "</table>\n",
       "<p>5 rows × 26 columns</p>\n",
       "</div>"
      ],
      "text/plain": [
       "   CreditCard  Age  Student AccountBalance       CS        GEXP1         DIN1  \\\n",
       "0           2    1        1           u100  Average  4350.426187  2780.014774   \n",
       "1           1    2        1         o10000  Average  4230.872548  2721.123376   \n",
       "2           2    5        0         o10000  Average  4836.533691  3137.231798   \n",
       "3           1    2        1    01000u10000  Average  4288.000046  2736.386884   \n",
       "4           2    1        1      o100u1000  Average  4380.721651  2825.678997   \n",
       "\n",
       "        TRANS1         ENT1        GROC1  ...    GROC2  HOTEL2     AIR2  \\\n",
       "0  3534.051017  2813.531871  2433.390448  ...  3983.29  721.56  2169.69   \n",
       "1  3525.241001  2816.375447  2970.424212  ...  4452.80  842.02  3040.12   \n",
       "2  4205.282185  3229.076565  2484.837704  ...  3278.51  499.47  1830.31   \n",
       "3  3663.947996  2002.497257  3034.466426  ...  3233.94  531.86  1921.96   \n",
       "4  3241.745528  2778.379019  2898.353526  ...  4575.31  778.42  2659.15   \n",
       "\n",
       "      GEXP3     DIN3     TRANS3     ENT3    GROC3   HOTEL3     AIR3  \n",
       "0   8241.17  1917.72  197043.53  3100.20  5554.97  1062.73  3726.34  \n",
       "1  10820.87  2342.69  241154.71  1980.95  4392.14   697.27  4353.28  \n",
       "2  10175.12  2522.14    4613.07  2775.48  2884.93   730.12  1941.41  \n",
       "3   6671.59  4187.69  223120.50  3131.77  5307.49   724.30  3091.07  \n",
       "4   7983.73  2927.02  232661.83  5890.42  5336.52   689.72  4020.44  \n",
       "\n",
       "[5 rows x 26 columns]"
      ]
     },
     "execution_count": 592,
     "metadata": {},
     "output_type": "execute_result"
    }
   ],
   "source": [
    "df.head()"
   ]
  },
  {
   "cell_type": "code",
   "execution_count": 593,
   "metadata": {},
   "outputs": [
    {
     "name": "stdout",
     "output_type": "stream",
     "text": [
      "64000 train examples\n",
      "16000 validation examples\n",
      "20000 test examples\n"
     ]
    }
   ],
   "source": [
    "train, test = train_test_split(df, test_size=0.2)\n",
    "train, val = train_test_split(train, test_size=0.2)\n",
    "print(len(train), 'train examples')\n",
    "print(len(val), 'validation examples')\n",
    "print(len(test), 'test examples')"
   ]
  },
  {
   "cell_type": "code",
   "execution_count": 594,
   "metadata": {},
   "outputs": [],
   "source": [
    "# A utility method to create a tf.data dataset from a Pandas Dataframe\n",
    "def df_to_dataset(dataframe, shuffle=True, batch_size=32):\n",
    "  dataframe = dataframe.copy()\n",
    "  labels = dataframe.pop('CreditCard')\n",
    "  ds = tf.data.Dataset.from_tensor_slices((dict(dataframe), labels))\n",
    "  if shuffle:\n",
    "    ds = ds.shuffle(buffer_size=len(dataframe))\n",
    "  ds = ds.batch(batch_size)\n",
    "  return ds"
   ]
  },
  {
   "cell_type": "markdown",
   "metadata": {},
   "source": [
    "# Build the model"
   ]
  },
  {
   "cell_type": "code",
   "execution_count": 595,
   "metadata": {},
   "outputs": [],
   "source": [
    "feature_columns = []\n",
    "\n",
    "# numeric cols\n",
    "for header in ['GEXP1', 'DIN1', 'TRANS1', 'ENT1', 'GROC1', 'HOTEL1', 'AIR1',\n",
    "               'GEXP2', 'DIN2', 'TRANS2', 'ENT2', 'GROC2', 'HOTEL2', 'AIR2',\n",
    "               'GEXP3', 'DIN3', 'TRANS3', 'ENT3', 'GROC3', 'HOTEL3', 'AIR3']:\n",
    "  feature_columns.append(feature_column.numeric_column(header))\n",
    "\n",
    "# indicator cols\n",
    "AccountBalance = feature_column.categorical_column_with_vocabulary_list(\n",
    "      'AccountBalance', ['u100', 'o100u1000', 'o1000u10000', 'o10000'])\n",
    "AB_one_hot = feature_column.indicator_column(AccountBalance)\n",
    "feature_columns.append(AB_one_hot)\n",
    "\n",
    "CS = feature_column.categorical_column_with_vocabulary_list(\n",
    "      'CS', ['Average', 'Excellent'])\n",
    "CS_one_hot = feature_column.indicator_column(CS)\n",
    "feature_columns.append(CS_one_hot)\n",
    "\n",
    "Student = feature_column.categorical_column_with_vocabulary_list(\n",
    "      'Student', [0, 1])\n",
    "Student_one_hot = feature_column.indicator_column(Student)\n",
    "feature_columns.append(Student_one_hot)"
   ]
  },
  {
   "cell_type": "code",
   "execution_count": 596,
   "metadata": {},
   "outputs": [],
   "source": [
    "feature_layer = tf.keras.layers.DenseFeatures(feature_columns)"
   ]
  },
  {
   "cell_type": "code",
   "execution_count": 597,
   "metadata": {},
   "outputs": [],
   "source": [
    "batch_size = 10\n",
    "train_ds = df_to_dataset(train, batch_size=batch_size)\n",
    "val_ds = df_to_dataset(val, shuffle=True, batch_size=batch_size)\n",
    "test_ds = df_to_dataset(test, shuffle=True, batch_size=batch_size)"
   ]
  },
  {
   "cell_type": "code",
   "execution_count": 605,
   "metadata": {
    "scrolled": false
   },
   "outputs": [
    {
     "name": "stdout",
     "output_type": "stream",
     "text": [
      "WARNING:tensorflow:Layer sequential_45 is casting an input tensor from dtype float64 to the layer's dtype of float32, which is new behavior in TensorFlow 2.  The layer has dtype float32 because it's dtype defaults to floatx.\n",
      "\n",
      "If you intended to run this layer in float32, you can safely ignore this warning. If in doubt, this warning is likely only an issue if you are porting a TensorFlow 1.X model to TensorFlow 2.\n",
      "\n",
      "To change all layers to have dtype float64 by default, call `tf.keras.backend.set_floatx('float64')`. To change just this layer, pass dtype='float64' to the layer constructor. If you are the author of this layer, you can disable autocasting by passing autocast=False to the base Layer constructor.\n",
      "\n",
      "Epoch 1/2\n",
      "6400/6400 [==============================] - 26s 4ms/step - loss: -1104978563792.2991 - accuracy: 0.1472 - val_loss: 0.0000e+00 - val_accuracy: 0.0000e+00\n",
      "Epoch 2/2\n",
      "6400/6400 [==============================] - 17s 3ms/step - loss: -11055387605418.0781 - accuracy: 0.1472 - val_loss: -21464323228702.7188 - val_accuracy: 0.1439\n"
     ]
    },
    {
     "data": {
      "text/plain": [
       "<tensorflow.python.keras.callbacks.History at 0x1a6be07278>"
      ]
     },
     "execution_count": 605,
     "metadata": {},
     "output_type": "execute_result"
    }
   ],
   "source": [
    "model = tf.keras.Sequential([\n",
    "  feature_layer,\n",
    "  layers.Dense(256, activation='relu'),\n",
    "  layers.Dense(256, activation='relu'),\n",
    "  layers.Dense(1, activation='sigmoid')\n",
    "])\n",
    "\n",
    "model.compile(optimizer='Adam',\n",
    "              loss='binary_crossentropy',\n",
    "              metrics=['accuracy'])\n",
    "\n",
    "model.fit(train_ds,\n",
    "          validation_data=val_ds,\n",
    "          epochs=2)"
   ]
  },
  {
   "cell_type": "code",
   "execution_count": 606,
   "metadata": {
    "scrolled": false
   },
   "outputs": [
    {
     "name": "stdout",
     "output_type": "stream",
     "text": [
      "2000/2000 [==============================] - 3s 2ms/step - loss: -21241416974454.7852 - accuracy: 0.1478\n",
      "Accuracy 0.14775\n"
     ]
    }
   ],
   "source": [
    "# Check accuracy\n",
    "loss, accuracy = model.evaluate(test_ds)\n",
    "print(\"Accuracy\", accuracy)"
   ]
  },
  {
   "cell_type": "code",
   "execution_count": 607,
   "metadata": {
    "scrolled": true
   },
   "outputs": [],
   "source": [
    "# Infer labels on a batch\n",
    "predictions = model.predict(test_ds)"
   ]
  }
 ],
 "metadata": {
  "colab": {
   "name": "Load CSV Data TensorFlow Tutorial",
   "provenance": []
  },
  "kernelspec": {
   "display_name": "Python 3",
   "language": "python",
   "name": "python3"
  },
  "language_info": {
   "codemirror_mode": {
    "name": "ipython",
    "version": 3
   },
   "file_extension": ".py",
   "mimetype": "text/x-python",
   "name": "python",
   "nbconvert_exporter": "python",
   "pygments_lexer": "ipython3",
   "version": "3.7.3"
  }
 },
 "nbformat": 4,
 "nbformat_minor": 1
}
